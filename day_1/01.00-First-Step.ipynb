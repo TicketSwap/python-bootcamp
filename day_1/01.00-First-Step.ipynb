{
 "cells": [
  {
   "cell_type": "markdown",
   "metadata": {},
   "source": [
    "# **Credit to:**\n",
    "\n",
    "Much of the course work was adapted from the following sources:\n",
    "\n",
    "Alexander Hess's Intro to Python course on YouTube\n",
    "https://github.com/webartifex/intro-to-python\n",
    "\n",
    "Jake Vanderplas's Book: Python Data Science Handbook\n",
    "https://github.com/jakevdp/PythonDataScienceHandbook\n",
    "\n",
    "If you want to go deeper into Python you can check out both of these resources as well as additional resources at the end of this series. "
   ]
  },
  {
   "cell_type": "markdown",
   "metadata": {},
   "source": [
    "# **Getting Started in IPython and Jupyter**\n",
    "\n",
    "In writing Python code for data science, I generally go between three modes of working: I use the IPython shell for trying out short sequences of commands, the Jupyter Notebook for longer interactive analysis and for sharing content with others, and interactive development environments (IDEs) like Emacs or VSCode for creating reusable Python packages.\n",
    "This chapter focuses on the first two modes: the IPython shell and the Jupyter Notebook.\n",
    "Use of an IDE for software development is an important third tool in the data scientist's repertoire, but we will not directly address that here."
   ]
  },
  {
   "cell_type": "markdown",
   "metadata": {},
   "source": [
    "## **Launching the Jupyter Notebook**\n",
    "\n",
    "The Jupyter Notebook is a browser-based graphical interface to the IPython shell, and builds on it a rich set of dynamic display capabilities.\n",
    "As well as executing Python/IPython statements, notebooks allow the user to include formatted text, static and dynamic visualizations, mathematical equations, JavaScript widgets, and much more.\n",
    "Furthermore, these documents can be saved in a way that lets other people open them and execute the code on their own systems.\n",
    "\n",
    "Though you'll view and edit Jupyter notebooks through your web browser window, they must connect to a running Python process in order to execute code.\n",
    "You can start this process (known as a \"kernel\") by running the following command in your system shell:\n",
    "\n",
    "```\n",
    "$ jupyter lab\n",
    "```\n",
    "\n",
    "This command will launch a local web server that will be visible to your browser.\n",
    "It immediately spits out a log showing what it is doing; that log will look something like this:\n",
    "\n",
    "```\n",
    "$ jupyter lab\n",
    "[ServerApp] Serving notebooks from local directory: /Users/jakevdp/PythonDataScienceHandbook\n",
    "[ServerApp] Jupyter Server 1.4.1 is running at:\n",
    "[ServerApp] http://localhost:8888/lab?token=dd852649\n",
    "[ServerApp] Use Control-C to stop this server and shut down all kernels (twice to skip confirmation).\n",
    "```\n",
    "\n",
    "Upon issuing the command, your default browser should automatically open and navigate to the listed local URL;\n",
    "the exact address will depend on your system.\n",
    "If the browser does not open automatically, you can open a window and manually open this address (*http://localhost:8888/lab/* in this example)."
   ]
  },
  {
   "cell_type": "markdown",
   "metadata": {},
   "source": [
    "#### **The Order of Code Cells is arbitrary**"
   ]
  },
  {
   "cell_type": "markdown",
   "metadata": {},
   "source": [
    "We can run the code cells in a Jupyter notebook in *any* arbitrary order.\n",
    "\n",
    "That means, for example, that a variable defined towards the bottom could accidentally be referenced at the top of the notebook. This happens quickly when we iteratively built a program and go back and forth between cells.\n",
    "\n",
    "As a good practice, it is recommended to click on \"Kernel\" > \"Restart Kernel and Run All Cells\" in the navigation bar once a notebook is finished. That restarts the Python process forgetting all **state** (i.e., all variables) and ensures that the notebook runs top to bottom without any errors the next time it is opened."
   ]
  },
  {
   "cell_type": "markdown",
   "metadata": {},
   "source": [
    "## **Markdown in Jupyter Notebooks**\n",
    "\n",
    "### **Overview**\n",
    "Markdown is a versatile and user-friendly markup language used in Jupyter Notebooks. It enables users to add rich formatting to their text, making it an essential tool for documentation, narrative explanation, and presenting data analysis in a readable format.\n",
    "\n",
    "## **Key Features and Syntax**\n",
    "\n",
    "### **Headers**\n",
    "Create headers using the `#` symbol. The number of `#` symbols indicates the level of the header.\n",
    "- `#` for a main header (H1)\n",
    "- `##` for a subheader (H2)\n",
    "- `###` for lower-level headers (H3, H4, etc.)\n",
    "\n",
    "### **Emphasis**\n",
    "- **Bold**: Enclose text with double asterisks `**text**`.\n",
    "- *Italic*: Enclose text with single asterisks `*text*`.\n",
    "- **_Combined Emphasis_**: Combine them with `**_text_**`.\n",
    "\n",
    "### **Lists**\n",
    "- Unordered lists: Start items with `-`, `*`, or `+`.\n",
    "- Ordered lists: Simply use numbers followed by a period.\n",
    "- Nested lists: Indent list items to create nested lists.\n",
    "\n",
    "### **Links and Images**\n",
    "- Hyperlinks: `[Displayed Text](http://url.com)`\n",
    "- Images: `![Alt Text](image_url)`\n",
    "\n",
    "### **Code**\n",
    "- Inline code: Enclose with backticks `` `code` ``.\n",
    "- Code blocks: Use triple backticks and specify the language (optional)\n",
    "  ```python\n",
    "  # Python code example\n",
    "  print(\"Hello, world!\")\n",
    "### **Blockquotes**\n",
    "Use `>` for simple blockquotes.\n",
    "For nested blockquotes, use multiple `>` symbols.\n",
    "> This is a blockquote.\n",
    ">> This is a nested blockquote.\n",
    "\n",
    "### **Tables**\n",
    "Use hyphens `-` and pipes `|` to create tables.\n",
    "```\n",
    "| Header 1 | Header 2 |\n",
    "| -------- | -------- |\n",
    "| Content 1 | Content 2 |\n",
    "| More content 1 | More content 2 |\n",
    "```\n",
    "| Header 1 | Header 2 |\n",
    "| -------- | -------- |\n",
    "| Content 1 | Content 2 |\n",
    "| More content 1 | More content 2 |\n",
    "\n",
    "### **LaTeX**\n",
    "For mathematical symbols and equations, use LaTeX syntax inside dollar symbols (e.g. `$E=mc^2$`):\n",
    "\n",
    "Inline equation: $E=mc^2$\n",
    "\n",
    "Display equation: $$E=mc^2$$"
   ]
  }
 ],
 "metadata": {
  "language_info": {
   "name": "python"
  }
 },
 "nbformat": 4,
 "nbformat_minor": 2
}
