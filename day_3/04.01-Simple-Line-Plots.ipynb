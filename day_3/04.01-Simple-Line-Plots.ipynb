{
 "cells": [
  {
   "cell_type": "markdown",
   "metadata": {},
   "source": [
    "# Simple Line Plots"
   ]
  },
  {
   "cell_type": "markdown",
   "metadata": {},
   "source": [
    "Perhaps the simplest of all plots is the visualization of a single function $y = f(x)$.\n",
    "Here we will take a first look at creating a simple plot of this type.\n",
    "As in all the following chapters, we'll start by setting up the notebook for plotting and  importing the packages we will use:"
   ]
  },
  {
   "cell_type": "code",
   "execution_count": null,
   "metadata": {
    "tags": []
   },
   "outputs": [],
   "source": [
    "import matplotlib.pyplot as plt\n",
    "import numpy as np"
   ]
  },
  {
   "cell_type": "markdown",
   "metadata": {},
   "source": [
    "For all Matplotlib plots, we start by creating a figure and axes.\n",
    "In their simplest form, this can be done as follows (see the following figure):"
   ]
  },
  {
   "cell_type": "code",
   "execution_count": null,
   "metadata": {
    "collapsed": false,
    "jupyter": {
     "outputs_hidden": false
    }
   },
   "outputs": [],
   "source": [
    "fig = plt.figure()\n",
    "ax = plt.axes()"
   ]
  },
  {
   "cell_type": "markdown",
   "metadata": {},
   "source": [
    "In Matplotlib, the *figure* (an instance of the class `plt.Figure`) can be thought of as a single container that contains all the objects representing axes, graphics, text, and labels.\n",
    "The *axes* (an instance of the class `plt.Axes`) is what we see above: a bounding box with ticks, grids, and labels, which will eventually contain the plot elements that make up our visualization.\n",
    "Throughout this part of the book, I'll commonly use the variable name `fig` to refer to a figure instance and `ax` to refer to an axes instance or group of axes instances.\n",
    "\n",
    "Once we have created an axes, we can use the `ax.plot` method to plot some data. Let's start with a simple sinusoid, as shown in the following figure:"
   ]
  },
  {
   "cell_type": "code",
   "execution_count": null,
   "metadata": {
    "collapsed": false,
    "jupyter": {
     "outputs_hidden": false
    }
   },
   "outputs": [],
   "source": [
    "fig = plt.figure()\n",
    "ax = plt.axes()\n",
    "\n",
    "x = np.linspace(0, 10, 1000)\n",
    "ax.plot(x, np.sin(x));"
   ]
  },
  {
   "attachments": {},
   "cell_type": "markdown",
   "metadata": {},
   "source": [
    "Note that the semicolon at the end of the last line is intentional: it suppresses the textual representation of the plot from the output.\n",
    "\n",
    "Alternatively, we can use the PyLab interface and let the figure and axes be created for us in the background; as the following figure shows, the result is the same:"
   ]
  },
  {
   "cell_type": "code",
   "execution_count": null,
   "metadata": {
    "collapsed": false,
    "jupyter": {
     "outputs_hidden": false
    }
   },
   "outputs": [],
   "source": [
    "plt.plot(x, np.sin(x));"
   ]
  },
  {
   "cell_type": "markdown",
   "metadata": {},
   "source": [
    "If we want to create a single figure with multiple lines (see the following figure), we can simply call the `plot` function multiple times:"
   ]
  },
  {
   "cell_type": "code",
   "execution_count": null,
   "metadata": {
    "collapsed": false,
    "jupyter": {
     "outputs_hidden": false
    }
   },
   "outputs": [],
   "source": [
    "plt.plot(x, np.sin(x))\n",
    "plt.plot(x, np.cos(x));"
   ]
  },
  {
   "cell_type": "markdown",
   "metadata": {},
   "source": [
    "That's all there is to plotting simple functions in Matplotlib!\n",
    "We'll now dive into some more details about how to control the appearance of the axes and lines."
   ]
  },
  {
   "cell_type": "markdown",
   "metadata": {},
   "source": [
    "## Adjusting the Plot: Line Colors and Styles"
   ]
  },
  {
   "cell_type": "markdown",
   "metadata": {},
   "source": [
    "The first adjustment you might wish to make to a plot is to control the line colors and styles.\n",
    "The `plt.plot` function takes additional arguments that can be used to specify these.\n",
    "To adjust the color, you can use the `color` keyword, which accepts a string argument representing virtually any imaginable color.\n",
    "The color can be specified in a variety of ways; see the following figure for the output of the following examples:"
   ]
  },
  {
   "cell_type": "code",
   "execution_count": null,
   "metadata": {
    "collapsed": false,
    "jupyter": {
     "outputs_hidden": false
    }
   },
   "outputs": [],
   "source": [
    "plt.plot(x, np.sin(x - 0), color='blue')        # specify color by name\n",
    "plt.plot(x, np.sin(x - 1), color='g')           # short color code (rgbcmyk)\n",
    "plt.plot(x, np.sin(x - 2), color='0.75')        # grayscale between 0 and 1\n",
    "plt.plot(x, np.sin(x - 3), color='#FFDD44')     # hex code (RRGGBB, 00 to FF)\n",
    "plt.plot(x, np.sin(x - 4), color=(1.0,0.2,0.3)) # RGB tuple, values 0 to 1\n",
    "plt.plot(x, np.sin(x - 5), color='chartreuse'); # HTML color names supported"
   ]
  },
  {
   "cell_type": "markdown",
   "metadata": {},
   "source": [
    "If no color is specified, Matplotlib will automatically cycle through a set of default colors for multiple lines.\n",
    "\n",
    "Similarly, the line style can be adjusted using the `linestyle` keyword (see the following figure):"
   ]
  },
  {
   "cell_type": "code",
   "execution_count": null,
   "metadata": {
    "collapsed": false,
    "jupyter": {
     "outputs_hidden": false
    }
   },
   "outputs": [],
   "source": [
    "plt.plot(x, x + 0, linestyle='solid')\n",
    "plt.plot(x, x + 1, linestyle='dashed')\n",
    "plt.plot(x, x + 2, linestyle='dashdot')\n",
    "plt.plot(x, x + 3, linestyle='dotted');\n",
    "\n",
    "# For short, you can use the following codes:\n",
    "plt.plot(x, x + 4, linestyle='-')  # solid\n",
    "plt.plot(x, x + 5, linestyle='--') # dashed\n",
    "plt.plot(x, x + 6, linestyle='-.') # dashdot\n",
    "plt.plot(x, x + 7, linestyle=':');  # dotted"
   ]
  },
  {
   "cell_type": "markdown",
   "metadata": {},
   "source": [
    "Though it may be less clear to someone reading your code, you can save some keystrokes by combining these `linestyle` and `color` codes into a single non-keyword argument to the `plt.plot` function; the following figure shows the result:"
   ]
  },
  {
   "cell_type": "code",
   "execution_count": null,
   "metadata": {
    "collapsed": false,
    "jupyter": {
     "outputs_hidden": false
    }
   },
   "outputs": [],
   "source": [
    "plt.plot(x, x + 0, '-g')   # solid green\n",
    "plt.plot(x, x + 1, '--c')  # dashed cyan\n",
    "plt.plot(x, x + 2, '-.k')  # dashdot black\n",
    "plt.plot(x, x + 3, ':r');  # dotted red"
   ]
  },
  {
   "cell_type": "markdown",
   "metadata": {},
   "source": [
    "These single-character color codes reflect the standard abbreviations in the RGB (Red/Green/Blue) and CMYK (Cyan/Magenta/Yellow/blacK) color systems, commonly used for digital color graphics.\n",
    "\n",
    "There are many other keyword arguments that can be used to fine-tune the appearance of the plot; for details, read through the docstring of the `plt.plot` function using IPython's help tools (see [Help and Documentation in IPython](01.01-Help-And-Documentation.ipynb))."
   ]
  },
  {
   "cell_type": "markdown",
   "metadata": {},
   "source": [
    "## Adjusting the Plot: Axes Limits\n",
    "\n",
    "Matplotlib does a decent job of choosing default axes limits for your plot, but sometimes it's nice to have finer control.\n",
    "The most basic way to adjust the limits is to use the `plt.xlim` and `plt.ylim` functions (see the following figure):"
   ]
  },
  {
   "cell_type": "code",
   "execution_count": null,
   "metadata": {
    "collapsed": false,
    "jupyter": {
     "outputs_hidden": false
    }
   },
   "outputs": [],
   "source": [
    "plt.plot(x, np.sin(x))\n",
    "\n",
    "plt.xlim(-1, 11)\n",
    "plt.ylim(-1.5, 1.5);"
   ]
  },
  {
   "cell_type": "markdown",
   "metadata": {},
   "source": [
    "If for some reason you'd like either axis to be displayed in reverse, you can simply reverse the order of the arguments (see the following figure):"
   ]
  },
  {
   "cell_type": "code",
   "execution_count": null,
   "metadata": {
    "collapsed": false,
    "jupyter": {
     "outputs_hidden": false
    }
   },
   "outputs": [],
   "source": [
    "plt.plot(x, np.sin(x))\n",
    "\n",
    "plt.xlim(10, 0)\n",
    "plt.ylim(1.2, -1.2);"
   ]
  },
  {
   "cell_type": "markdown",
   "metadata": {},
   "source": [
    "A useful related method is `plt.axis` (note here the potential confusion between *axes* with an *e*, and *axis* with an *i*), which allows more qualitative specifications of axis limits. For example, you can automatically tighten the bounds around the current content, as shown in the following figure:"
   ]
  },
  {
   "cell_type": "code",
   "execution_count": null,
   "metadata": {
    "collapsed": false,
    "jupyter": {
     "outputs_hidden": false
    }
   },
   "outputs": [],
   "source": [
    "plt.plot(x, np.sin(x))\n",
    "plt.axis('tight');"
   ]
  },
  {
   "cell_type": "markdown",
   "metadata": {},
   "source": [
    "Or you can specify that you want an equal axis ratio, such that one unit in `x` is visually equivalent to one unit in `y`, as seen in the following figure:"
   ]
  },
  {
   "cell_type": "code",
   "execution_count": null,
   "metadata": {
    "collapsed": false,
    "jupyter": {
     "outputs_hidden": false
    }
   },
   "outputs": [],
   "source": [
    "plt.plot(x, np.sin(x))\n",
    "plt.axis('equal');"
   ]
  },
  {
   "cell_type": "markdown",
   "metadata": {},
   "source": [
    "Other axis options include `'on'`, `'off'`, `'square'`, `'image'`, and more. For more information on these, refer to the `plt.axis` docstring."
   ]
  },
  {
   "cell_type": "markdown",
   "metadata": {},
   "source": [
    "## Labeling Plots\n",
    "\n",
    "As the last piece of this chapter, we'll briefly look at the labeling of plots: titles, axis labels, and simple legends.\n",
    "Titles and axis labels are the simplest such labels—there are methods that can be used to quickly set them (see the following figure):"
   ]
  },
  {
   "cell_type": "code",
   "execution_count": null,
   "metadata": {
    "collapsed": false,
    "jupyter": {
     "outputs_hidden": false
    }
   },
   "outputs": [],
   "source": [
    "plt.plot(x, np.sin(x))\n",
    "plt.title(\"A Sine Curve\")\n",
    "plt.xlabel(\"x\")\n",
    "plt.ylabel(\"sin(x)\");"
   ]
  },
  {
   "cell_type": "markdown",
   "metadata": {},
   "source": [
    "The position, size, and style of these labels can be adjusted using optional arguments to the functions, described in the docstrings."
   ]
  },
  {
   "cell_type": "markdown",
   "metadata": {},
   "source": [
    "When multiple lines are being shown within a single axes, it can be useful to create a plot legend that labels each line type.\n",
    "Again, Matplotlib has a built-in way of quickly creating such a legend; it is done via the (you guessed it) `plt.legend` method.\n",
    "Though there are several valid ways of using this, I find it easiest to specify the label of each line using the `label` keyword of the `plot` function (see the following figure):"
   ]
  },
  {
   "cell_type": "code",
   "execution_count": null,
   "metadata": {
    "collapsed": false,
    "jupyter": {
     "outputs_hidden": false
    }
   },
   "outputs": [],
   "source": [
    "plt.plot(x, np.sin(x), '-g', label='sin(x)')\n",
    "plt.plot(x, np.cos(x), ':b', label='cos(x)')\n",
    "plt.axis('equal')\n",
    "\n",
    "plt.legend();"
   ]
  },
  {
   "cell_type": "markdown",
   "metadata": {},
   "source": [
    "As you can see, the `plt.legend` function keeps track of the line style and color, and matches these with the correct label.\n",
    "More information on specifying and formatting plot legends can be found in the `plt.legend` docstring; additionally, we will cover some more advanced legend options in [Customizing Plot Legends](04.06-Customizing-Legends.ipynb)."
   ]
  },
  {
   "cell_type": "markdown",
   "metadata": {},
   "source": [
    "## Matplotlib Gotchas\n",
    "\n",
    "While most `plt` functions translate directly to `ax` methods (`plt.plot` → `ax.plot`, `plt.legend` → `ax.legend`, etc.), this is not the case for all commands.\n",
    "In particular, functions to set limits, labels, and titles are slightly modified.\n",
    "For transitioning between MATLAB-style functions and object-oriented methods, make the following changes:\n",
    "\n",
    "- `plt.xlabel`  → `ax.set_xlabel`\n",
    "- `plt.ylabel` → `ax.set_ylabel`\n",
    "- `plt.xlim`  → `ax.set_xlim`\n",
    "- `plt.ylim` → `ax.set_ylim`\n",
    "- `plt.title` → `ax.set_title`\n",
    "\n",
    "In the object-oriented interface to plotting, rather than calling these functions individually, it is often more convenient to use the `ax.set` method to set all these properties at once (see the following figure):"
   ]
  },
  {
   "cell_type": "code",
   "execution_count": null,
   "metadata": {
    "collapsed": false,
    "jupyter": {
     "outputs_hidden": false
    }
   },
   "outputs": [],
   "source": [
    "ax = plt.axes()\n",
    "ax.plot(x, np.sin(x))\n",
    "ax.set(xlim=(0, 10), ylim=(-2, 2),\n",
    "       xlabel='x', ylabel='sin(x)',\n",
    "       title='A Simple Plot');"
   ]
  },
  {
   "cell_type": "markdown",
   "metadata": {},
   "source": [
    "## Let's practice!\n",
    "\n",
    "1. Import the sales data into a `pandas` DataFrame. The data is located at `data/sales_data.csv`. \n",
    "2. From the DataFrame we want to use the `month_number` column as the x-axis and the `total_profit` column as the y-axis.\n",
    "3. Create a line plot with the data. You can use the `plt.plot()` function or the `ax.plot()` method.\n",
    "4. Add a title, x-axis label, and y-axis label to the plot. The title should be \"Month-wise Profit data of last year\" and the x-axis label should be \"Month Number\" and the y-axis label should be \"Profit in euros\"."
   ]
  },
  {
   "cell_type": "code",
   "execution_count": null,
   "metadata": {},
   "outputs": [],
   "source": [
    "import pandas as pd\n",
    "\n",
    "# sales data path\n",
    "sales_data_path = 'data/sales_data.csv'\n",
    "\n",
    "# Step 1. read sales data into a pandas dataframe (note: you can use the sales_data_path variable)\n",
    "df = ... # your code here\n",
    "\n",
    "df.head()"
   ]
  },
  {
   "cell_type": "code",
   "execution_count": null,
   "metadata": {},
   "outputs": [],
   "source": [
    "# Step 2. Define what will be our x and y values\n",
    "x_values = ... # your code here\n",
    "y_values = ... # your code here\n",
    "\n",
    "# Step 3. Plot the line chart. You can use: \n",
    "# plt.plot()\n",
    "# OR use \n",
    "# ax = plt.axes()\n",
    "# ax.plot()\n",
    "\n",
    "# Step 4. Label the axes and give a title to the plot\n",
    "# If you used plt.plot(), you can see an example of what to do by scrolling up to the beginning of the Labeling Plots section\n",
    "# If you used ax.plot(), you can see an example of what to do by looking at the example right above this problem"
   ]
  }
 ],
 "metadata": {
  "anaconda-cloud": {},
  "jupytext": {
   "formats": "ipynb,md"
  },
  "kernelspec": {
   "display_name": "Python 3 (ipykernel)",
   "language": "python",
   "name": "python3"
  },
  "language_info": {
   "codemirror_mode": {
    "name": "ipython",
    "version": 3
   },
   "file_extension": ".py",
   "mimetype": "text/x-python",
   "name": "python",
   "nbconvert_exporter": "python",
   "pygments_lexer": "ipython3",
   "version": "3.11.4"
  }
 },
 "nbformat": 4,
 "nbformat_minor": 4
}
